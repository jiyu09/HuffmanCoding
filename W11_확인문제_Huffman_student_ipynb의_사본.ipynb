{
  "nbformat": 4,
  "nbformat_minor": 0,
  "metadata": {
    "colab": {
      "provenance": []
    },
    "kernelspec": {
      "name": "python3",
      "display_name": "Python 3"
    },
    "language_info": {
      "name": "python"
    }
  },
  "cells": [
    {
      "cell_type": "markdown",
      "source": [
        "# 다음 표의 캐릭터와 빈도수로 얻어진 값을 호프만 코드로 만드는 파이썬 클래스 HuffmanNode 를 작성하라. 아래 클래스 틀을 활용하라."
      ],
      "metadata": {
        "id": "F7LD3FpdYEfH"
      }
    },
    {
      "cell_type": "code",
      "execution_count": 4,
      "metadata": {
        "id": "F44QErMjYBo-",
        "colab": {
          "base_uri": "https://localhost:8080/"
        },
        "outputId": "570fcc53-24ce-4831-a169-cb4c970d6485"
      },
      "outputs": [
        {
          "output_type": "stream",
          "name": "stdout",
          "text": [
            "Huffman Codes for the given frequencies:\n",
            "!: 000\n",
            "@: 001\n",
            "#: 01\n",
            "$: 10\n",
            "%: 11\n"
          ]
        }
      ],
      "source": [
        "class HuffmanNode:\n",
        "    def __init__(self, frequency, symbol=None, left=None, right=None):\n",
        "        self.frequency = frequency\n",
        "        self.symbol = symbol\n",
        "        self.left = left\n",
        "        self.right = right\n",
        "\n",
        "class HuffmanCoding:\n",
        "    def __init__(self, frequencies): # frequencies -> dict, with char: freq\n",
        "        # Initialize with a list of Huffman nodes for each character\n",
        "        self.nodes = [HuffmanNode(freq, symbol) for symbol, freq in frequencies.items()]\n",
        "\n",
        "    # Helper method to check if a node is a leaf (has no children)\n",
        "    def is_leaf(self, node):\n",
        "        return node.left is None and node.right is None\n",
        "\n",
        "    def get_codes(self) :\n",
        "      while len(self.nodes) > 1 :\n",
        "        self.nodes.sort(key = lambda node : node.frequency)\n",
        "        left_node = self.nodes.pop(0)\n",
        "        right_node = self.nodes.pop(0)\n",
        "\n",
        "        merged_node = HuffmanNode(left_node.frequency + right_node.frequency, None, left_node, right_node)\n",
        "        self.nodes.append(merged_node)\n",
        "\n",
        "      root = self.nodes[0] if self.nodes else None\n",
        "      codes = {}\n",
        "      self._get_codes(root, \"\", codes)\n",
        "      return codes\n",
        "\n",
        "    def _get_codes(self, node, codes, result_codes) :\n",
        "      if node is None :\n",
        "        return\n",
        "\n",
        "      if self.is_leaf(node) :\n",
        "        result_codes[node.symbol] = codes\n",
        "        return result_codes\n",
        "\n",
        "      self._get_codes(node.left, codes + \"1\", result_codes)\n",
        "      self._get_codes(node.right, codes + \"0\", result_codes)\n",
        "\n",
        "# Example usage\n",
        "if __name__ == \"__main__\":\n",
        "    # Input frequencies as per Table 9.1.2\n",
        "    frequencies = {\n",
        "        '!': 2,\n",
        "        '@': 3,\n",
        "        '#': 7,\n",
        "        '$': 8,\n",
        "        '%': 12\n",
        "    }\n",
        "\n",
        "    # Create HuffmanCoding instance and get the codes\n",
        "    huffman_coding = HuffmanCoding(frequencies)\n",
        "    codes = huffman_coding.get_codes()\n",
        "\n",
        "    # Output the resulting Huffman codes\n",
        "    print(\"Huffman Codes for the given frequencies:\")\n",
        "    for symbol, code in codes.items():\n",
        "        print(f\"{symbol}: {code}\")"
      ]
    },
    {
      "cell_type": "code",
      "source": [],
      "metadata": {
        "id": "hYFX-MJgnfzx"
      },
      "execution_count": null,
      "outputs": []
    }
  ]
}
